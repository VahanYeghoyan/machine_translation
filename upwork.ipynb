{
 "cells": [
  {
   "cell_type": "code",
   "execution_count": 1,
   "metadata": {},
   "outputs": [],
   "source": [
    "import pandas as pd"
   ]
  },
  {
   "cell_type": "code",
   "execution_count": 2,
   "metadata": {},
   "outputs": [],
   "source": [
    "import pandas as pd\n",
    "\n",
    "df = pd.read_excel(\"/home/vahan/Downloads/Book1.xlsx\")\n"
   ]
  },
  {
   "cell_type": "code",
   "execution_count": 3,
   "metadata": {},
   "outputs": [
    {
     "data": {
      "text/html": [
       "<div>\n",
       "<style scoped>\n",
       "    .dataframe tbody tr th:only-of-type {\n",
       "        vertical-align: middle;\n",
       "    }\n",
       "\n",
       "    .dataframe tbody tr th {\n",
       "        vertical-align: top;\n",
       "    }\n",
       "\n",
       "    .dataframe thead th {\n",
       "        text-align: right;\n",
       "    }\n",
       "</style>\n",
       "<table border=\"1\" class=\"dataframe\">\n",
       "  <thead>\n",
       "    <tr style=\"text-align: right;\">\n",
       "      <th></th>\n",
       "      <th>content</th>\n",
       "      <th>tags</th>\n",
       "    </tr>\n",
       "  </thead>\n",
       "  <tbody>\n",
       "    <tr>\n",
       "      <th>0</th>\n",
       "      <td>Bước vào trận đấu, Barcelona nhanh chóng tràn ...</td>\n",
       "      <td>La Liga,Sevilla,Olimpic Lluis Companys,đè bẹp,...</td>\n",
       "    </tr>\n",
       "    <tr>\n",
       "      <th>1</th>\n",
       "      <td>Willian đi vào lịch sử bóng đá xứ samba. Với 1...</td>\n",
       "      <td>Estevao Willian,Neymar,giải VĐQG Brazil,Serie ...</td>\n",
       "    </tr>\n",
       "    <tr>\n",
       "      <th>2</th>\n",
       "      <td>Mục tiêu lớn Phó Thủ tướng Chính phủ Lê Thành ...</td>\n",
       "      <td>đăng cai,Đại hội Thể thao châu Á,ASIAD,thể dục...</td>\n",
       "    </tr>\n",
       "    <tr>\n",
       "      <th>3</th>\n",
       "      <td>Ngày 20-10, Giải bơi và lặn vô địch quốc gia n...</td>\n",
       "      <td>toàn đoàn,lặn,Vũ Đặng Nhật Nam,Nguyễn Lê Truyề...</td>\n",
       "    </tr>\n",
       "    <tr>\n",
       "      <th>4</th>\n",
       "      <td>Đồng chí Giàng Thị Dung, Phó Chủ tịch UBND tỉn...</td>\n",
       "      <td>Hồng Hà,Giàng Thị Dung,đua xe đạp,Lào Cai,LPBa...</td>\n",
       "    </tr>\n",
       "    <tr>\n",
       "      <th>5</th>\n",
       "      <td>Erling Haaland gần như mất hút ở trận Wolves v...</td>\n",
       "      <td>Erling Haaland,Premier League 2024/25,Na Uy,Wo...</td>\n",
       "    </tr>\n",
       "    <tr>\n",
       "      <th>6</th>\n",
       "      <td>Giải đấu khởi tranh từ ngày 13/10 đến ngày 20/...</td>\n",
       "      <td>Trảng Bàng,Trung tâm Văn hóa,thiếu niên,sôi nổ...</td>\n",
       "    </tr>\n",
       "    <tr>\n",
       "      <th>7</th>\n",
       "      <td>Chiều 21-10, tại thành phố Hồ Chí Minh, Tạp ch...</td>\n",
       "      <td>Press Cup 2024,giải bóng đá,cơ quan báo chí,TP...</td>\n",
       "    </tr>\n",
       "    <tr>\n",
       "      <th>8</th>\n",
       "      <td>Giải vô địch Karate quốc gia lần thứ 33 năm 20...</td>\n",
       "      <td>Nguyễn Thị Bảo Ngọc,Hoàng Thị Mỹ Tâm,huy chươn...</td>\n",
       "    </tr>\n",
       "    <tr>\n",
       "      <th>9</th>\n",
       "      <td>Các nội dung của quyền biểu diễn đã tranh tài ...</td>\n",
       "      <td>Châu Tuyết Vân,Huy chương Vàng,giải vô địch qu...</td>\n",
       "    </tr>\n",
       "    <tr>\n",
       "      <th>10</th>\n",
       "      <td>Ngôi sao người Qatar nhận 18% số phiếu bầu, về...</td>\n",
       "      <td>Akram Afif,Titan Sports,Afif,Son Heung-min,Sou...</td>\n",
       "    </tr>\n",
       "    <tr>\n",
       "      <th>11</th>\n",
       "      <td>Kết thúc các nội dung thi đấu, đoàn Hưng Yên g...</td>\n",
       "      <td>Pencak Silat quốc gia,huy chương,Hưng Yên,vận ...</td>\n",
       "    </tr>\n",
       "    <tr>\n",
       "      <th>12</th>\n",
       "      <td>Ngày 19/10/2024, tại Khu Liên hiệp thể thao Mỹ...</td>\n",
       "      <td>pickleball,Nguyễn Thế Hoàng,miền Bắc,đội Bắc G...</td>\n",
       "    </tr>\n",
       "    <tr>\n",
       "      <th>13</th>\n",
       "      <td>Giải bóng đá các cơ quan báo chí toàn quốc - P...</td>\n",
       "      <td>Công đoàn Cục Báo chí,CLB Phóng viên Đời sống,...</td>\n",
       "    </tr>\n",
       "  </tbody>\n",
       "</table>\n",
       "</div>"
      ],
      "text/plain": [
       "                                              content  \\\n",
       "0   Bước vào trận đấu, Barcelona nhanh chóng tràn ...   \n",
       "1   Willian đi vào lịch sử bóng đá xứ samba. Với 1...   \n",
       "2   Mục tiêu lớn Phó Thủ tướng Chính phủ Lê Thành ...   \n",
       "3   Ngày 20-10, Giải bơi và lặn vô địch quốc gia n...   \n",
       "4   Đồng chí Giàng Thị Dung, Phó Chủ tịch UBND tỉn...   \n",
       "5   Erling Haaland gần như mất hút ở trận Wolves v...   \n",
       "6   Giải đấu khởi tranh từ ngày 13/10 đến ngày 20/...   \n",
       "7   Chiều 21-10, tại thành phố Hồ Chí Minh, Tạp ch...   \n",
       "8   Giải vô địch Karate quốc gia lần thứ 33 năm 20...   \n",
       "9   Các nội dung của quyền biểu diễn đã tranh tài ...   \n",
       "10  Ngôi sao người Qatar nhận 18% số phiếu bầu, về...   \n",
       "11  Kết thúc các nội dung thi đấu, đoàn Hưng Yên g...   \n",
       "12  Ngày 19/10/2024, tại Khu Liên hiệp thể thao Mỹ...   \n",
       "13  Giải bóng đá các cơ quan báo chí toàn quốc - P...   \n",
       "\n",
       "                                                 tags  \n",
       "0   La Liga,Sevilla,Olimpic Lluis Companys,đè bẹp,...  \n",
       "1   Estevao Willian,Neymar,giải VĐQG Brazil,Serie ...  \n",
       "2   đăng cai,Đại hội Thể thao châu Á,ASIAD,thể dục...  \n",
       "3   toàn đoàn,lặn,Vũ Đặng Nhật Nam,Nguyễn Lê Truyề...  \n",
       "4   Hồng Hà,Giàng Thị Dung,đua xe đạp,Lào Cai,LPBa...  \n",
       "5   Erling Haaland,Premier League 2024/25,Na Uy,Wo...  \n",
       "6   Trảng Bàng,Trung tâm Văn hóa,thiếu niên,sôi nổ...  \n",
       "7   Press Cup 2024,giải bóng đá,cơ quan báo chí,TP...  \n",
       "8   Nguyễn Thị Bảo Ngọc,Hoàng Thị Mỹ Tâm,huy chươn...  \n",
       "9   Châu Tuyết Vân,Huy chương Vàng,giải vô địch qu...  \n",
       "10  Akram Afif,Titan Sports,Afif,Son Heung-min,Sou...  \n",
       "11  Pencak Silat quốc gia,huy chương,Hưng Yên,vận ...  \n",
       "12  pickleball,Nguyễn Thế Hoàng,miền Bắc,đội Bắc G...  \n",
       "13  Công đoàn Cục Báo chí,CLB Phóng viên Đời sống,...  "
      ]
     },
     "execution_count": 3,
     "metadata": {},
     "output_type": "execute_result"
    }
   ],
   "source": [
    "df"
   ]
  },
  {
   "cell_type": "code",
   "execution_count": 4,
   "metadata": {},
   "outputs": [],
   "source": [
    "sent_list = df.tags.to_list()"
   ]
  },
  {
   "cell_type": "code",
   "execution_count": 5,
   "metadata": {},
   "outputs": [
    {
     "data": {
      "text/plain": [
       "['La Liga,Sevilla,Olimpic Lluis Companys,đè bẹp,Lewandowski,Barcelona,Raphinha,Pedri,Hansi Flick,tiếp đón,primera,củng cố vị trí,kháng cự,bắn phá,vào sân thay người,nhân đôi cách biệt,tỏa sáng,xen,sân nhà,chấm 11m',\n",
       " 'Estevao Willian,Neymar,giải VĐQG Brazil,Serie A 2024/25,Willian,U17,Palmeiras,thần đồng,phá kỷ lục,Serie A Brazil,Santos,kiến tạo,tuyển Brazil,World Cup 1994,Serie A,in dấu,gây sốt,khuấy đảo,phát cuồng,tài năng trẻ',\n",
       " 'đăng cai,Đại hội Thể thao châu Á,ASIAD,thể dục,Quyết định số 1189/QĐ-TTg,phấn đấu,OCA,Đại hội Thể thao Đông Nam Á,chiến lược phát triển,Asian Indoor Games 2009,Incheon 2014,Hội đồng Olympic châu Á,ASIAD 18,Cung thể thao dưới nước,thể thao,Đại hội thể thao trong nhà châu Á,tầm nhìn,SEA Games,Đại hội Thể thao Đông Nam Á 2003,Lê Thành Long',\n",
       " 'toàn đoàn,lặn,Vũ Đặng Nhật Nam,Nguyễn Lê Truyền Đạt,vô địch quốc gia,hạng Ba,CVĐ,bơi,Đồng Nai,Lê Quỳnh Như,Lê Thị Thanh Tuyền,Nguyễn Ngọc Huynh,kình ngư,Nhật Nam,chân vịt,Huy chương Bạc,Huy chương Vàng,mix,Huy chương Đồng,vận động viên',\n",
       " 'Hồng Hà,Giàng Thị Dung,đua xe đạp,Lào Cai,LPBank Ninh,Trường Tươi Bình Phước,Xi măng Long Sơn,cuộc họp,Binh chủng Thông tin,Geleximco Thái Bình,châu Hồng Hà,đường đua,bảng điểm,VTV Bình Điền Long An,Sở Văn hóa,nhà thi đấu,giải thể thao,quyết tâm,đường trường,bán vé',\n",
       " 'Erling Haaland,Premier League 2024/25,Na Uy,Wolves,De Bruyne,tịt ngòi,Kevin,Opta,Pep,Rodri,tuyển Bỉ,Wolverhampton,Kovacic,sa sút,mất hút,chuỗi,Josep Guardiola,tay đôi,sói,chuyền bóng',\n",
       " 'Trảng Bàng,Trung tâm Văn hóa,thiếu niên,sôi nổi,thị xã,bế mạc,cao thượng,Gia Lộc,An Hòa,giải Nhất,thể thức,khởi tranh,vòng tròn,bóng đá,chọn ra,chia làm,tranh tài,trung thực,giải Ba,giải Nhì',\n",
       " 'Press Cup 2024,giải bóng đá,cơ quan báo chí,TP Hồ Chí Minh,Công đoàn Cục Báo chí,Trần Trọng Dũng,sân vận động Tao Đàn,Press Cup,khai mạc,vòng loại,toàn quốc,Hội Nhà báo Việt Nam,phía Nam,Huyền Trân,VTV9,bốc thăm chia bảng,giải đấu,nhà báo,biên tập viên,từ Trung ương đến địa phương',\n",
       " 'Nguyễn Thị Bảo Ngọc,Hoàng Thị Mỹ Tâm,huy chương,đội tuyển Karate Quốc gia,Huy chương Bạc,Hà Tĩnh,Kumite,Huy chương Đồng,Nguyễn Đình Việt,Huy chương Vàng,Kata,hạng cân,đối kháng,giành được,Karatedo,vận động viên,kế cận,trao đổi kinh nghiệm,tranh tài,Điện Biên',\n",
       " 'Châu Tuyết Vân,Huy chương Vàng,giải vô địch quốc gia,võ sĩ,Nguyễn Hải Trang,Nguyễn Thiên Phụng,Nguyễn Ngọc Minh Hy,Nguyễn Văn Đáng,đội TPHCM,Nguyễn Quang Trí,Nguyễn Thị Hồng Trang,Lê Thanh Trung,Nguyễn Xuân Thành,Trần Đăng Khoa,khả ái,được chấm,nhà thi đấu,giành điểm,tranh tài,giải vô địch',\n",
       " 'Akram Afif,Titan Sports,Afif,Son Heung-min,Soufiane Rahimi,Cristiano Ronaldo,Qatar,Al Sadd,Asian Cup 2024,tuyển Qatar,hat,Saudi Pro League,Aleksandar Mitrovic,trick,Liên đoàn Bóng đá châu Á,Shinji Okazaki,giành giải,Keisuke Honda,Sporting Gijon,giải lớn',\n",
       " 'Pencak Silat quốc gia,huy chương,Hưng Yên,vận động viên,Bà Rịa – Vũng Tàu,đối kháng,hạng cân,Nguyễn Thị Mỹ Dung,giải vô địch,Nguyễn Thị Thảo,quy tụ,đôi nữ,tranh tài,Pencak Silat,toàn đoàn,biểu diễn,nhà chuyên môn,đội tuyển,Huy chương Vàng,Huy chương Bạc',\n",
       " 'pickleball,Nguyễn Thế Hoàng,miền Bắc,đội Bắc Giang,Giải Triển Vọng,OceanBank,sân Pickleball,Lê Xuân Vũ,sôi động,đồng đội,Ngô Anh Tuấn,Trần Trung Dũng,MB Bank,phụ nữ Việt Nam,năm,hứng khởi,gắn kết,giải đấu,HĐTV,ngang tài',\n",
       " 'Công đoàn Cục Báo chí,CLB Phóng viên Đời sống,Press Cup,sân Tao Đàn,phía Nam,cơ quan báo chí,Đài PT,SCTV,Bộ Thông tin,VOH,khởi động,TP.HCM,vòng loại,Hội Nhà báo Việt Nam,bốc thăm chia bảng,toàn quốc,FPT Play,VTV9,HTV,bắt thăm']"
      ]
     },
     "execution_count": 5,
     "metadata": {},
     "output_type": "execute_result"
    }
   ],
   "source": [
    "sent_list"
   ]
  },
  {
   "cell_type": "code",
   "execution_count": 14,
   "metadata": {},
   "outputs": [],
   "source": [
    "word_list = []"
   ]
  },
  {
   "cell_type": "code",
   "execution_count": null,
   "metadata": {},
   "outputs": [],
   "source": []
  },
  {
   "cell_type": "code",
   "execution_count": 15,
   "metadata": {},
   "outputs": [],
   "source": [
    "for sent in sent_list:\n",
    "    for words in sent.split():\n",
    "        word_list.append(words)"
   ]
  },
  {
   "cell_type": "code",
   "execution_count": 18,
   "metadata": {},
   "outputs": [
    {
     "data": {
      "text/plain": [
       "427"
      ]
     },
     "execution_count": 18,
     "metadata": {},
     "output_type": "execute_result"
    }
   ],
   "source": [
    "len(word_list)"
   ]
  },
  {
   "cell_type": "code",
   "execution_count": 19,
   "metadata": {},
   "outputs": [
    {
     "data": {
      "text/plain": [
       "354"
      ]
     },
     "execution_count": 19,
     "metadata": {},
     "output_type": "execute_result"
    }
   ],
   "source": [
    "len(set(word_list))"
   ]
  },
  {
   "cell_type": "code",
   "execution_count": null,
   "metadata": {},
   "outputs": [],
   "source": []
  }
 ],
 "metadata": {
  "kernelspec": {
   "display_name": "base",
   "language": "python",
   "name": "python3"
  },
  "language_info": {
   "codemirror_mode": {
    "name": "ipython",
    "version": 3
   },
   "file_extension": ".py",
   "mimetype": "text/x-python",
   "name": "python",
   "nbconvert_exporter": "python",
   "pygments_lexer": "ipython3",
   "version": "3.11.7"
  }
 },
 "nbformat": 4,
 "nbformat_minor": 2
}
